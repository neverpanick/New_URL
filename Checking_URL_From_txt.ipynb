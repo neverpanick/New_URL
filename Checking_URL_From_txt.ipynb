{
 "cells": [
  {
   "cell_type": "code",
   "execution_count": 9,
   "metadata": {},
   "outputs": [
    {
     "name": "stdout",
     "output_type": "stream",
     "text": [
      "Please enter path of the fileDownloads\\RAW_URLs_to_compare.txt\n"
     ]
    }
   ],
   "source": [
    "#Code to Open .txt file\n",
    "location = input(\"Please enter path of the file\")\n",
    "f = open(location, \"r\")\n",
    "#print(f.read())"
   ]
  },
  {
   "cell_type": "code",
   "execution_count": 10,
   "metadata": {},
   "outputs": [],
   "source": [
    "import pandas as pd\n",
    "df = pd.read_csv(location) # can replace with df = pd.read_table('input.txt') for '\\t'\n",
    "df.to_excel('out.xlsx', 'Sheet1')"
   ]
  },
  {
   "cell_type": "code",
   "execution_count": 11,
   "metadata": {},
   "outputs": [],
   "source": [
    "import xlrd\n",
    "wb = xlrd.open_workbook(r\"out.xlsx\")\n",
    "ws = wb.sheet_by_index(0)\n",
    "my_list = ws.col_values(1)"
   ]
  },
  {
   "cell_type": "code",
   "execution_count": 12,
   "metadata": {},
   "outputs": [
    {
     "data": {
      "text/plain": [
       "['http://www.facebook.com',\n",
       " 'http://www.baidu.com',\n",
       " 'http://www.yahoo.com',\n",
       " 'http://www.amazon.com',\n",
       " 'https://www.bing.com/search?q=convert+string+to+list+in+python&cvid=587868f7e3374100854abd0de3033638&aqs=edge.0.69i59j69i57j0l5j69i60l2.5191j0j9&FORM=ANAB01&PC=U531',\n",
       " 'http://www.wikipedia.org',\n",
       " 'http://www.qq.com',\n",
       " 'http://www.google.co.in',\n",
       " 'http://www.twitter.com',\n",
       " 'http://www.live.com',\n",
       " 'http://www.secuirty.net',\n",
       " 'http://www.taobao.com',\n",
       " 'http://www.bing.com',\n",
       " 'http://www.instagram.com',\n",
       " 'http://www.weibo.com',\n",
       " 'http://www.sina.com.cn',\n",
       " 'http://www.linkedin.com',\n",
       " 'http://www.yahoo.co.jp',\n",
       " 'http://www.msn.com',\n",
       " 'http://www.vk.com',\n",
       " 'http://www.google.de',\n",
       " 'http://www.yandex.ru',\n",
       " 'http://www.hao123.com',\n",
       " 'http://www.google.co.uk',\n",
       " 'http://www.reddit.com',\n",
       " 'http://www.ebay.com',\n",
       " 'http://www.google.fr',\n",
       " 'http://www.t.co',\n",
       " 'http://www.tmall.com',\n",
       " 'http://www.google.com.br',\n",
       " 'http://www.360.cn',\n",
       " 'http://www.sohu.com',\n",
       " 'http://www.amazon.co.jp',\n",
       " 'http://www.pinterest.com',\n",
       " 'http://www.netflix.com',\n",
       " 'http://www.google.it']"
      ]
     },
     "execution_count": 12,
     "metadata": {},
     "output_type": "execute_result"
    }
   ],
   "source": [
    "my_list"
   ]
  },
  {
   "cell_type": "code",
   "execution_count": null,
   "metadata": {},
   "outputs": [],
   "source": []
  },
  {
   "cell_type": "code",
   "execution_count": 13,
   "metadata": {},
   "outputs": [],
   "source": [
    "import urllib\n",
    "\n",
    "from urllib.parse import urlparse\n",
    "\n"
   ]
  },
  {
   "cell_type": "code",
   "execution_count": 14,
   "metadata": {},
   "outputs": [],
   "source": [
    "nl = []\n",
    "for i in my_list:\n",
    "    o = urlparse(i)\n",
    "    k = o.netloc\n",
    "    #print(k)\n",
    "    nl.append(k)\n"
   ]
  },
  {
   "cell_type": "code",
   "execution_count": 15,
   "metadata": {},
   "outputs": [
    {
     "data": {
      "text/plain": [
       "['www.facebook.com',\n",
       " 'www.baidu.com',\n",
       " 'www.yahoo.com',\n",
       " 'www.amazon.com',\n",
       " 'www.bing.com',\n",
       " 'www.wikipedia.org',\n",
       " 'www.qq.com',\n",
       " 'www.google.co.in',\n",
       " 'www.twitter.com',\n",
       " 'www.live.com',\n",
       " 'www.secuirty.net',\n",
       " 'www.taobao.com',\n",
       " 'www.bing.com',\n",
       " 'www.instagram.com',\n",
       " 'www.weibo.com',\n",
       " 'www.sina.com.cn',\n",
       " 'www.linkedin.com',\n",
       " 'www.yahoo.co.jp',\n",
       " 'www.msn.com',\n",
       " 'www.vk.com',\n",
       " 'www.google.de',\n",
       " 'www.yandex.ru',\n",
       " 'www.hao123.com',\n",
       " 'www.google.co.uk',\n",
       " 'www.reddit.com',\n",
       " 'www.ebay.com',\n",
       " 'www.google.fr',\n",
       " 'www.t.co',\n",
       " 'www.tmall.com',\n",
       " 'www.google.com.br',\n",
       " 'www.360.cn',\n",
       " 'www.sohu.com',\n",
       " 'www.amazon.co.jp',\n",
       " 'www.pinterest.com',\n",
       " 'www.netflix.com',\n",
       " 'www.google.it']"
      ]
     },
     "execution_count": 15,
     "metadata": {},
     "output_type": "execute_result"
    }
   ],
   "source": [
    "nl"
   ]
  },
  {
   "cell_type": "code",
   "execution_count": 16,
   "metadata": {},
   "outputs": [],
   "source": [
    "import xlrd\n",
    "wb = xlrd.open_workbook(r\"Downloads\\White Listed Domains.xlsx\")\n",
    "ws = wb.sheet_by_index(0)\n",
    "white_listed_domains = ws.col_values(1)"
   ]
  },
  {
   "cell_type": "code",
   "execution_count": 17,
   "metadata": {},
   "outputs": [
    {
     "name": "stdout",
     "output_type": "stream",
     "text": [
      "www.ebay.com\n"
     ]
    }
   ],
   "source": [
    "for i in white_listed_domains:\n",
    "    for j in nl:\n",
    "        if(i==j):\n",
    "            print(i)\n",
    "            break\n",
    "        \n",
    "        "
   ]
  },
  {
   "cell_type": "code",
   "execution_count": null,
   "metadata": {},
   "outputs": [],
   "source": []
  }
 ],
 "metadata": {
  "kernelspec": {
   "display_name": "Python 3",
   "language": "python",
   "name": "python3"
  },
  "language_info": {
   "codemirror_mode": {
    "name": "ipython",
    "version": 3
   },
   "file_extension": ".py",
   "mimetype": "text/x-python",
   "name": "python",
   "nbconvert_exporter": "python",
   "pygments_lexer": "ipython3",
   "version": "3.8.5"
  }
 },
 "nbformat": 4,
 "nbformat_minor": 4
}
